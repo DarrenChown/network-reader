{
 "cells": [
  {
   "cell_type": "code",
   "execution_count": 1,
   "metadata": {},
   "outputs": [],
   "source": [
    "# %pip install pypsa\n",
    "# %pip install pandas\n",
    "# %pip install dash"
   ]
  },
  {
   "cell_type": "code",
   "execution_count": 2,
   "metadata": {},
   "outputs": [],
   "source": [
    "%reset -f\n",
    "import pypsa\n",
    "import warnings\n",
    "import pandas as pd\n",
    "import pypsabackground as pyp\n",
    "import network_saver as nets\n",
    "from pathlib import Path\n",
    "\n",
    "# Set pandas options\n",
    "pd.set_option('display.max_columns', None)\n",
    "pd.options.plotting.backend = 'plotly'\n",
    "\n",
    "# Configure warnings\n",
    "warnings.filterwarnings(\"ignore\", category=UserWarning, module='openpyxl')"
   ]
  },
  {
   "cell_type": "code",
   "execution_count": 3,
   "metadata": {},
   "outputs": [],
   "source": [
    "'''     Set the Time Period for the Network\n",
    "________________________________________________'''\n",
    "\n",
    "timePeriod = {\n",
    "    \"startDate\"     :   \"2025-01-01 00:00\",\n",
    "    \"yearAmount\"    :   1\n",
    "}\n",
    "\n",
    "'''     Set the path for Input Data in Excel files for Folder Management\n",
    "_____________________________________________________________________________'''\n",
    "\n",
    "'''     -   Do not change folders unless necessary\n",
    "        -   Move Input Data to their respective Folders before Running      '''\n",
    "\n",
    "inputFolder = Path(\"InputData\")  # Input Data is in this Folder\n",
    "inputData = {\n",
    "    \"Plant\": {\n",
    "        \"Folder\"    :   \"PlantData\",       # Keep Folders the same for Convenience\n",
    "        \"File\"      :   \"AfricaModel_V4\",                                            # Change File Names for new Data\n",
    "        \"Sheet\"     :   \"HydroAfrica\"\n",
    "    },\n",
    "    \"Demand\": {\n",
    "        \"Folder\"    :   \"DemandData\",\n",
    "        \"File\"      :   \"AfricaDemandData_V1\"\n",
    "    },\n",
    "    \"River\": {\n",
    "        \"Folder\"    :   \"RiverFlow\",\n",
    "        \"File\"      :   \"AfricaRiverData_V1\"\n",
    "    }\n",
    "}\n",
    "\n",
    "'''     Set the path for Data Exporting as CSV files:\n",
    "___________________________________________________________'''\n",
    "\n",
    "exportFolder = Path(\"ExportCSV\")\n",
    "exportData = {\n",
    "    \"Input\" : {\n",
    "        \"Folder\"    :   \"InputCSV\",\n",
    "        \"File\"      :   \"AfricaInputData\"\n",
    "    },\n",
    "    \"Result\" : {\n",
    "        \"Folder\"    :   \"ResultCSV\",\n",
    "        \"File\"      :   \"AfricaResultData\"\n",
    "    }\n",
    "}\n",
    "\n",
    "'''     Networks for the Webpage to Read are Saved in this Folder \n",
    "_______________________________________________________________________'''\n",
    "\n",
    "saveNetFolder = Path(\"SavedNetworks\") \n",
    "\n",
    "'''     Create Folders for Exporting\n",
    "_________________________________________'''\n",
    "\n",
    "saveNetFolder.mkdir(parents=True, exist_ok=True)\n",
    "exportFolder.mkdir(parents=True, exist_ok=True)"
   ]
  },
  {
   "cell_type": "code",
   "execution_count": 4,
   "metadata": {},
   "outputs": [
    {
     "name": "stdout",
     "output_type": "stream",
     "text": [
      "Solver highs succeeded!\n",
      "Selected solver: highs\n",
      "Error adding link for 0: cannot convert float NaN to integer\n",
      "Error adding link for 6: cannot convert float NaN to integer\n",
      "Error adding link for 8: cannot convert float NaN to integer\n",
      "Error adding link for 9: cannot convert float NaN to integer\n",
      "Error adding link for 10: cannot convert float NaN to integer\n",
      "Error adding link for 11: cannot convert float NaN to integer\n",
      "Error adding link for 12: cannot convert float NaN to integer\n",
      "Error adding link for 18: cannot convert float NaN to integer\n",
      "Error adding link for 22: cannot convert float NaN to integer\n",
      "Error adding link for 26: cannot convert float NaN to integer\n",
      "Error adding link for 32: cannot convert float NaN to integer\n",
      "Error adding link for 33: cannot convert float NaN to integer\n"
     ]
    }
   ],
   "source": [
    "'''     This Takes the Data Inputs Above and makes the Network\n",
    "___________________________________________________________________'''\n",
    "'''     Ignore [Error adding _____ for __: ___] \n",
    "        This Error is from Empty or Null Fields      '''\n",
    "\n",
    "# Automatic Folder Pathing for Above Data Inputs\n",
    "plantPath = nets.get_path(inputData, inputFolder, \"Plant\", \"File\")\n",
    "riverPath = nets.get_path(inputData, inputFolder, \"River\", \"File\")\n",
    "demandPath = nets.get_path(inputData, inputFolder, \"Demand\", \"File\")\n",
    "start_date = pd.Timestamp(timePeriod[\"startDate\"])\n",
    "end_date = start_date + pd.DateOffset(years=timePeriod[\"yearAmount\"]) - pd.Timedelta(hours=1)\n",
    "snapshots = pd.date_range(start_date,end_date , freq=\"h\")\n",
    "\n",
    "# Selects a Solver\n",
    "select_solver = pyp.solver_selected() # Default is normally 'highs'\n",
    "\n",
    "# Create network\n",
    "network = pypsa.Network()\n",
    "network.set_snapshots(snapshots)\n",
    "\n",
    "# Import Static, Plant, River and then Demand Data\n",
    "pyp.import_from_excel(network, f\"{str(plantPath)}.xlsx\")\n",
    "with pd.ExcelFile(f\"{str(plantPath)}.xlsx\") as xls:\n",
    "    plant_data_df = pd.read_excel(xls, sheet_name=inputData[\"Plant\"][\"Sheet\"], comment=\"#\")\n",
    "update_components = plant_data_df.apply(lambda row: pyp.add_plant_data(network, row), axis=1)\n",
    "pyp.import_river_inflows(network, f\"{str(riverPath)}.csv\")\n",
    "pyp.import_demand(network, f\"{str(demandPath)}.csv\")"
   ]
  },
  {
   "cell_type": "code",
   "execution_count": 5,
   "metadata": {},
   "outputs": [
    {
     "name": "stderr",
     "output_type": "stream",
     "text": [
      "WARNING:pypsa.consistency:Encountered nan's in static data for columns ['efficiency2'] of component 'Link'.\n",
      "WARNING:pypsa.consistency:Encountered nan's in static data for columns ['efficiency2'] of component 'Link'.\n"
     ]
    },
    {
     "name": "stdout",
     "output_type": "stream",
     "text": [
      "Solver highs succeeded!\n",
      "Selected solver: highs\n"
     ]
    },
    {
     "name": "stderr",
     "output_type": "stream",
     "text": [
      "INFO:linopy.model: Solve problem using Highs solver\n",
      "INFO:linopy.io:Writing objective.\n",
      "Writing constraints.: 100%|\u001b[38;2;128;191;255m██████████\u001b[0m| 19/19 [00:16<00:00,  1.16it/s]\n",
      "Writing continuous variables.: 100%|\u001b[38;2;128;191;255m██████████\u001b[0m| 5/5 [00:01<00:00,  2.96it/s]\n",
      "Writing binary variables.: 100%|\u001b[38;2;128;191;255m██████████\u001b[0m| 3/3 [00:00<00:00,  3.74it/s]\n",
      "INFO:linopy.io: Writing time: 19.02s\n",
      "INFO:linopy.solvers:Log file at C:\\Users\\dazzc\\AppData\\Local\\Temp\\highs.log\n",
      "INFO:linopy.constants: Optimization successful: \n",
      "Status: ok\n",
      "Termination condition: optimal\n",
      "Solution: 1322775 primals, 2119907 duals\n",
      "Objective: 3.35e+10\n",
      "Solver model: available\n",
      "Solver message: optimal\n",
      "\n",
      "INFO:pypsa.optimization.optimize:The shadow-prices of the constraints Generator-fix-p-lower, Generator-fix-p-upper, Generator-ext-p-lower, Generator-ext-p-upper, Generator-p_set, Link-com-p-lower, Link-com-p-upper, Link-com-transition-start-up, Link-com-transition-shut-down, Link-com-status-min_up_time_must_stay_up, Link-com-p0-ramp_limit_up, Link-com-p0-ramp_limit_down, Store-fix-e-lower, Store-fix-e-upper, Store-energy_balance were not assigned to the network.\n",
      "WARNING:pypsa.io:Directory ExportCSV\\ResultCSV\\AfricaResultData2.csv does not exist, creating it\n",
      "INFO:pypsa.io:Exported network 'AfricaResultData2.csv' contains: carriers, stores, loads, buses, generators, links\n"
     ]
    },
    {
     "name": "stdout",
     "output_type": "stream",
     "text": [
      "Result saved to: ExportCSV\\AfricaResultData2.csv\n"
     ]
    },
    {
     "name": "stderr",
     "output_type": "stream",
     "text": [
      "INFO:pypsa.io:Exported network 'network3.h5' contains: carriers, stores, loads, buses, generators, links\n"
     ]
    },
    {
     "name": "stdout",
     "output_type": "stream",
     "text": [
      "Network saved to: SavedNetworks\\network3.h5\n"
     ]
    }
   ],
   "source": [
    "'''     1 Export Input and Result Data as CSV\n",
    "        2 Solves the Network\n",
    "        3 Saves the Network as a .h5 file\n",
    "___________________________________________________'''\n",
    "\n",
    "nets.export_files(network, exportData, exportFolder, \"Input\", 'csv')\n",
    "select_solver = pyp.solver_selected()\n",
    "network.optimize(solver_name=select_solver)\n",
    "nets.export_files(network, exportData, exportFolder, \"Result\", 'csv')\n",
    "nets.export_files(network, '', saveNetFolder, \"network\", 'h5')"
   ]
  }
 ],
 "metadata": {
  "kernelspec": {
   "display_name": "base",
   "language": "python",
   "name": "python3"
  },
  "language_info": {
   "codemirror_mode": {
    "name": "ipython",
    "version": 3
   },
   "file_extension": ".py",
   "mimetype": "text/x-python",
   "name": "python",
   "nbconvert_exporter": "python",
   "pygments_lexer": "ipython3",
   "version": "3.10.13"
  }
 },
 "nbformat": 4,
 "nbformat_minor": 2
}
