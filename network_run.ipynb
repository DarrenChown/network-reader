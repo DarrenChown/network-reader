{
 "cells": [
  {
   "cell_type": "code",
   "execution_count": 1,
   "metadata": {},
   "outputs": [
    {
     "name": "stderr",
     "output_type": "stream",
     "text": [
      "c:\\Users\\dazzc\\anaconda3\\lib\\site-packages\\dash\\dash.py:23: DeprecationWarning:\n",
      "\n",
      "pkg_resources is deprecated as an API. See https://setuptools.pypa.io/en/latest/pkg_resources.html\n",
      "\n",
      "c:\\Users\\dazzc\\anaconda3\\lib\\site-packages\\dash\\_jupyter.py:31: DeprecationWarning:\n",
      "\n",
      "The `ipykernel.comm.Comm` class has been deprecated. Please use the `comm` module instead.For creating comms, use the function `from comm import create_comm`.\n",
      "\n"
     ]
    },
    {
     "data": {
      "text/html": [
       "\n",
       "        <iframe\n",
       "            width=\"100%\"\n",
       "            height=\"650\"\n",
       "            src=\"http://127.0.0.1:5000/\"\n",
       "            frameborder=\"0\"\n",
       "            allowfullscreen\n",
       "            \n",
       "        ></iframe>\n",
       "        "
      ],
      "text/plain": [
       "<IPython.lib.display.IFrame at 0x271b7a720b0>"
      ]
     },
     "metadata": {},
     "output_type": "display_data"
    },
    {
     "data": {
      "text/plain": [
       "True"
      ]
     },
     "execution_count": 1,
     "metadata": {},
     "output_type": "execute_result"
    }
   ],
   "source": [
    "import net_writer_V2 as nw\n",
    "import threading as th\n",
    "import webbrowser as wb\n",
    "\n",
    "\n",
    "'''     Run net_writer.py to start the Localhost and Open the Webpage\n",
    "__________________________________________________________________________'''\n",
    "'''     Restart Kernal when adding more networks        '''\n",
    "\n",
    "# Start the Dash app in a separate thread\n",
    "dash_thread = th.Thread(target=nw.run_dash)\n",
    "dash_thread.start()\n",
    "\n",
    "# Open the web browser to the Dash app\n",
    "wb.open(\"http://127.0.0.1:5000/\")"
   ]
  }
 ],
 "metadata": {
  "kernelspec": {
   "display_name": "base",
   "language": "python",
   "name": "python3"
  },
  "language_info": {
   "codemirror_mode": {
    "name": "ipython",
    "version": 3
   },
   "file_extension": ".py",
   "mimetype": "text/x-python",
   "name": "python",
   "nbconvert_exporter": "python",
   "pygments_lexer": "ipython3",
   "version": "3.10.13"
  }
 },
 "nbformat": 4,
 "nbformat_minor": 2
}
